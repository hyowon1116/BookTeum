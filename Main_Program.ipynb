{
 "cells": [
  {
   "cell_type": "markdown",
   "id": "706630de",
   "metadata": {},
   "source": [
    "### 필요한 라이브러리 import"
   ]
  },
  {
   "cell_type": "code",
   "execution_count": null,
   "id": "878364e5",
   "metadata": {},
   "outputs": [],
   "source": [
    "import import_ipynb\n",
    "from code5_Defining_Function import *\n",
    "print('필요한 라이브러리를 모두 설치했습니다.')"
   ]
  },
  {
   "cell_type": "markdown",
   "id": "ee99cbef",
   "metadata": {},
   "source": [
    "### 도서 추천 프로그램 <책틈> 실행"
   ]
  },
  {
   "cell_type": "code",
   "execution_count": null,
   "id": "fd5d60d4",
   "metadata": {
    "scrolled": false
   },
   "outputs": [],
   "source": [
    "if __name__ == '__main__':\n",
    "    BookTeum()"
   ]
  }
 ],
 "metadata": {
  "kernelspec": {
   "display_name": "Python 3",
   "language": "python",
   "name": "python3"
  },
  "language_info": {
   "codemirror_mode": {
    "name": "ipython",
    "version": 3
   },
   "file_extension": ".py",
   "mimetype": "text/x-python",
   "name": "python",
   "nbconvert_exporter": "python",
   "pygments_lexer": "ipython3",
   "version": "3.9.6"
  }
 },
 "nbformat": 4,
 "nbformat_minor": 5
}
