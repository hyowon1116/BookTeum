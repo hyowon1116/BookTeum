{
 "cells": [
  {
   "cell_type": "markdown",
   "id": "9d32d676",
   "metadata": {},
   "source": [
    "### 필요한 라이브러리 import"
   ]
  },
  {
   "cell_type": "code",
   "execution_count": 1,
   "id": "bacd9599",
   "metadata": {},
   "outputs": [],
   "source": [
    "import requests\n",
    "from bs4 import BeautifulSoup"
   ]
  },
  {
   "cell_type": "markdown",
   "id": "4035dd15",
   "metadata": {},
   "source": [
    "### 텍스트 변환 함수\n",
    "기능: 태그에서 텍스트를 추출하여 반환<br>\n",
    "목적: 도서 이벤트 태그에서 제목과 기간을 추출하기 위해"
   ]
  },
  {
   "cell_type": "code",
   "execution_count": 2,
   "id": "c5613701",
   "metadata": {},
   "outputs": [],
   "source": [
    "def toTxt(i):\n",
    "    return i.text.strip()"
   ]
  },
  {
   "cell_type": "markdown",
   "id": "dee65f3b",
   "metadata": {},
   "source": [
    "### 알라딘 도서 이벤트 정보 함수\n",
    "기능: 알라딘 도서 이벤트 등록일 기준 상위 5개의 이벤트 정보 반환"
   ]
  },
  {
   "cell_type": "code",
   "execution_count": 3,
   "id": "26952b9c",
   "metadata": {},
   "outputs": [],
   "source": [
    "event_url = 'https://www.aladin.co.kr/events/wevent_sub.aspx' # 알라딘 도서 이벤트 페이지 링크"
   ]
  },
  {
   "cell_type": "code",
   "execution_count": 4,
   "id": "63502698",
   "metadata": {},
   "outputs": [],
   "source": [
    "def getEvent():\n",
    "    soup = BeautifulSoup(requests.get(event_url).text, 'html.parser')\n",
    "    \n",
    "    titles = soup.find_all('a', 'ml')[:5]\n",
    "    dates = soup.find_all('span', 'date')[:5]\n",
    "    links = ['https://www.aladin.co.kr' + t.get('href') for t in titles]\n",
    "    \n",
    "    return list(map(toTxt, titles)), list(map(toTxt, dates)), links # 이벤트 제목, 기간, 링크 리스트 반환"
   ]
  }
 ],
 "metadata": {
  "kernelspec": {
   "display_name": "Python 3",
   "language": "python",
   "name": "python3"
  },
  "language_info": {
   "codemirror_mode": {
    "name": "ipython",
    "version": 3
   },
   "file_extension": ".py",
   "mimetype": "text/x-python",
   "name": "python",
   "nbconvert_exporter": "python",
   "pygments_lexer": "ipython3",
   "version": "3.9.6"
  }
 },
 "nbformat": 4,
 "nbformat_minor": 5
}
